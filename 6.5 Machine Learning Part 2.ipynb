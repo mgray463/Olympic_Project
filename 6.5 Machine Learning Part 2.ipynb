{
 "cells": [
  {
   "cell_type": "markdown",
   "id": "16d1227a",
   "metadata": {},
   "source": [
    "# Unsupervised Machine Learning"
   ]
  },
  {
   "cell_type": "markdown",
   "id": "83a425a9",
   "metadata": {},
   "source": [
    "### Table of Contents\n",
    "\n",
    "\n",
    "### 1. Preparing Notebook\n",
    "\n",
    "### 2. The Elbow technique\n",
    "\n",
    "### 3. K-means clustering"
   ]
  },
  {
   "cell_type": "markdown",
   "id": "91df6f55",
   "metadata": {},
   "source": [
    "## 1. Preparing Notebook"
   ]
  },
  {
   "cell_type": "code",
   "execution_count": 1,
   "id": "504bc656",
   "metadata": {},
   "outputs": [],
   "source": [
    "import pandas as pd\n",
    "import numpy as np\n",
    "import seaborn as sns\n",
    "import matplotlib\n",
    "import matplotlib.pyplot as plt\n",
    "import os\n",
    "import sklearn\n",
    "from sklearn.cluster import KMeans \n",
    "import pylab as pl \n",
    "from sklearn.preprocessing import StandardScaler"
   ]
  },
  {
   "cell_type": "code",
   "execution_count": 2,
   "id": "99e2d131",
   "metadata": {},
   "outputs": [],
   "source": [
    "# This option ensures the graphs you create are displayed in your notebook without the need to \"call\" them specifically.\n",
    "\n",
    "%matplotlib inline"
   ]
  },
  {
   "cell_type": "code",
   "execution_count": 3,
   "id": "cbb1065c",
   "metadata": {},
   "outputs": [],
   "source": [
    "path = r'C:\\Users\\Matt\\Documents\\Data Analysis Course\\Medal_Count_GDP_Project'"
   ]
  },
  {
   "cell_type": "code",
   "execution_count": 4,
   "id": "4125feda",
   "metadata": {},
   "outputs": [],
   "source": [
    "df = pd.read_csv(os.path.join(path, '02 Data','Prepared Data','Regression_Data.csv'))"
   ]
  },
  {
   "cell_type": "code",
   "execution_count": 5,
   "id": "f145e0b1",
   "metadata": {},
   "outputs": [
    {
     "data": {
      "text/plain": [
       "(164408, 17)"
      ]
     },
     "execution_count": 5,
     "metadata": {},
     "output_type": "execute_result"
    }
   ],
   "source": [
    "# Checking df\n",
    "\n",
    "df.shape"
   ]
  },
  {
   "cell_type": "code",
   "execution_count": 6,
   "id": "857c49d1",
   "metadata": {},
   "outputs": [
    {
     "data": {
      "text/html": [
       "<div>\n",
       "<style scoped>\n",
       "    .dataframe tbody tr th:only-of-type {\n",
       "        vertical-align: middle;\n",
       "    }\n",
       "\n",
       "    .dataframe tbody tr th {\n",
       "        vertical-align: top;\n",
       "    }\n",
       "\n",
       "    .dataframe thead th {\n",
       "        text-align: right;\n",
       "    }\n",
       "</style>\n",
       "<table border=\"1\" class=\"dataframe\">\n",
       "  <thead>\n",
       "    <tr style=\"text-align: right;\">\n",
       "      <th></th>\n",
       "      <th>Unnamed: 0</th>\n",
       "      <th>Name</th>\n",
       "      <th>Sex</th>\n",
       "      <th>Age</th>\n",
       "      <th>Weight (kg)</th>\n",
       "      <th>Height (cm)</th>\n",
       "      <th>Country Name</th>\n",
       "      <th>Year</th>\n",
       "      <th>Season</th>\n",
       "      <th>Location</th>\n",
       "      <th>Sport</th>\n",
       "      <th>Event</th>\n",
       "      <th>Medal</th>\n",
       "      <th>After 1960</th>\n",
       "      <th>GDP</th>\n",
       "      <th>Total Country Medal Count</th>\n",
       "      <th>Average Country GDP</th>\n",
       "    </tr>\n",
       "  </thead>\n",
       "  <tbody>\n",
       "    <tr>\n",
       "      <th>0</th>\n",
       "      <td>0</td>\n",
       "      <td>A Dijiang</td>\n",
       "      <td>M</td>\n",
       "      <td>24.0</td>\n",
       "      <td>180.0</td>\n",
       "      <td>80.0</td>\n",
       "      <td>China</td>\n",
       "      <td>1992</td>\n",
       "      <td>Summer</td>\n",
       "      <td>Barcelona</td>\n",
       "      <td>Basketball</td>\n",
       "      <td>Basketball Men's Basketball</td>\n",
       "      <td>NaN</td>\n",
       "      <td>Yes</td>\n",
       "      <td>366.460692</td>\n",
       "      <td>901</td>\n",
       "      <td>2656.268669</td>\n",
       "    </tr>\n",
       "    <tr>\n",
       "      <th>1</th>\n",
       "      <td>1</td>\n",
       "      <td>Bai Chongguang</td>\n",
       "      <td>M</td>\n",
       "      <td>21.0</td>\n",
       "      <td>184.0</td>\n",
       "      <td>83.0</td>\n",
       "      <td>China</td>\n",
       "      <td>1992</td>\n",
       "      <td>Summer</td>\n",
       "      <td>Barcelona</td>\n",
       "      <td>Boxing</td>\n",
       "      <td>Boxing Men's Light-Heavyweight</td>\n",
       "      <td>NaN</td>\n",
       "      <td>Yes</td>\n",
       "      <td>366.460692</td>\n",
       "      <td>901</td>\n",
       "      <td>2656.268669</td>\n",
       "    </tr>\n",
       "    <tr>\n",
       "      <th>2</th>\n",
       "      <td>2</td>\n",
       "      <td>Bai Mei</td>\n",
       "      <td>F</td>\n",
       "      <td>17.0</td>\n",
       "      <td>166.0</td>\n",
       "      <td>46.0</td>\n",
       "      <td>China</td>\n",
       "      <td>1992</td>\n",
       "      <td>Summer</td>\n",
       "      <td>Barcelona</td>\n",
       "      <td>Rhythmic Gymnastics</td>\n",
       "      <td>Rhythmic Gymnastics Women's Individual</td>\n",
       "      <td>NaN</td>\n",
       "      <td>Yes</td>\n",
       "      <td>366.460692</td>\n",
       "      <td>901</td>\n",
       "      <td>2656.268669</td>\n",
       "    </tr>\n",
       "    <tr>\n",
       "      <th>3</th>\n",
       "      <td>3</td>\n",
       "      <td>Bi Zhong</td>\n",
       "      <td>M</td>\n",
       "      <td>23.0</td>\n",
       "      <td>188.0</td>\n",
       "      <td>110.0</td>\n",
       "      <td>China</td>\n",
       "      <td>1992</td>\n",
       "      <td>Summer</td>\n",
       "      <td>Barcelona</td>\n",
       "      <td>Athletics</td>\n",
       "      <td>Athletics Men's Hammer Throw</td>\n",
       "      <td>NaN</td>\n",
       "      <td>Yes</td>\n",
       "      <td>366.460692</td>\n",
       "      <td>901</td>\n",
       "      <td>2656.268669</td>\n",
       "    </tr>\n",
       "    <tr>\n",
       "      <th>4</th>\n",
       "      <td>4</td>\n",
       "      <td>Cai Yanshu</td>\n",
       "      <td>M</td>\n",
       "      <td>28.0</td>\n",
       "      <td>169.0</td>\n",
       "      <td>79.0</td>\n",
       "      <td>China</td>\n",
       "      <td>1992</td>\n",
       "      <td>Summer</td>\n",
       "      <td>Barcelona</td>\n",
       "      <td>Weightlifting</td>\n",
       "      <td>Weightlifting Men's Light-Heavyweight</td>\n",
       "      <td>NaN</td>\n",
       "      <td>Yes</td>\n",
       "      <td>366.460692</td>\n",
       "      <td>901</td>\n",
       "      <td>2656.268669</td>\n",
       "    </tr>\n",
       "  </tbody>\n",
       "</table>\n",
       "</div>"
      ],
      "text/plain": [
       "   Unnamed: 0            Name Sex   Age  Weight (kg)  Height (cm)  \\\n",
       "0           0       A Dijiang   M  24.0        180.0         80.0   \n",
       "1           1  Bai Chongguang   M  21.0        184.0         83.0   \n",
       "2           2         Bai Mei   F  17.0        166.0         46.0   \n",
       "3           3        Bi Zhong   M  23.0        188.0        110.0   \n",
       "4           4      Cai Yanshu   M  28.0        169.0         79.0   \n",
       "\n",
       "  Country Name  Year  Season   Location                Sport  \\\n",
       "0        China  1992  Summer  Barcelona           Basketball   \n",
       "1        China  1992  Summer  Barcelona               Boxing   \n",
       "2        China  1992  Summer  Barcelona  Rhythmic Gymnastics   \n",
       "3        China  1992  Summer  Barcelona            Athletics   \n",
       "4        China  1992  Summer  Barcelona        Weightlifting   \n",
       "\n",
       "                                    Event Medal After 1960         GDP  \\\n",
       "0             Basketball Men's Basketball   NaN        Yes  366.460692   \n",
       "1          Boxing Men's Light-Heavyweight   NaN        Yes  366.460692   \n",
       "2  Rhythmic Gymnastics Women's Individual   NaN        Yes  366.460692   \n",
       "3            Athletics Men's Hammer Throw   NaN        Yes  366.460692   \n",
       "4   Weightlifting Men's Light-Heavyweight   NaN        Yes  366.460692   \n",
       "\n",
       "   Total Country Medal Count  Average Country GDP  \n",
       "0                        901          2656.268669  \n",
       "1                        901          2656.268669  \n",
       "2                        901          2656.268669  \n",
       "3                        901          2656.268669  \n",
       "4                        901          2656.268669  "
      ]
     },
     "execution_count": 6,
     "metadata": {},
     "output_type": "execute_result"
    }
   ],
   "source": [
    "df.head()"
   ]
  },
  {
   "cell_type": "code",
   "execution_count": 7,
   "id": "2588f96e",
   "metadata": {},
   "outputs": [
    {
     "data": {
      "text/plain": [
       "Index(['Unnamed: 0', 'Name', 'Sex', 'Age', 'Weight (kg)', 'Height (cm)',\n",
       "       'Country Name', 'Year', 'Season', 'Location', 'Sport', 'Event', 'Medal',\n",
       "       'After 1960', 'GDP', 'Total Country Medal Count',\n",
       "       'Average Country GDP'],\n",
       "      dtype='object')"
      ]
     },
     "execution_count": 7,
     "metadata": {},
     "output_type": "execute_result"
    }
   ],
   "source": [
    "df.columns"
   ]
  },
  {
   "cell_type": "code",
   "execution_count": 8,
   "id": "7c854178",
   "metadata": {},
   "outputs": [
    {
     "data": {
      "text/html": [
       "<div>\n",
       "<style scoped>\n",
       "    .dataframe tbody tr th:only-of-type {\n",
       "        vertical-align: middle;\n",
       "    }\n",
       "\n",
       "    .dataframe tbody tr th {\n",
       "        vertical-align: top;\n",
       "    }\n",
       "\n",
       "    .dataframe thead th {\n",
       "        text-align: right;\n",
       "    }\n",
       "</style>\n",
       "<table border=\"1\" class=\"dataframe\">\n",
       "  <thead>\n",
       "    <tr style=\"text-align: right;\">\n",
       "      <th></th>\n",
       "      <th>Age</th>\n",
       "      <th>Weight (kg)</th>\n",
       "      <th>Height (cm)</th>\n",
       "      <th>GDP</th>\n",
       "      <th>Total Country Medal Count</th>\n",
       "      <th>Average Country GDP</th>\n",
       "    </tr>\n",
       "  </thead>\n",
       "  <tbody>\n",
       "    <tr>\n",
       "      <th>0</th>\n",
       "      <td>24.0</td>\n",
       "      <td>180.0</td>\n",
       "      <td>80.0</td>\n",
       "      <td>366.460692</td>\n",
       "      <td>901</td>\n",
       "      <td>2656.268669</td>\n",
       "    </tr>\n",
       "    <tr>\n",
       "      <th>1</th>\n",
       "      <td>21.0</td>\n",
       "      <td>184.0</td>\n",
       "      <td>83.0</td>\n",
       "      <td>366.460692</td>\n",
       "      <td>901</td>\n",
       "      <td>2656.268669</td>\n",
       "    </tr>\n",
       "    <tr>\n",
       "      <th>2</th>\n",
       "      <td>17.0</td>\n",
       "      <td>166.0</td>\n",
       "      <td>46.0</td>\n",
       "      <td>366.460692</td>\n",
       "      <td>901</td>\n",
       "      <td>2656.268669</td>\n",
       "    </tr>\n",
       "    <tr>\n",
       "      <th>3</th>\n",
       "      <td>23.0</td>\n",
       "      <td>188.0</td>\n",
       "      <td>110.0</td>\n",
       "      <td>366.460692</td>\n",
       "      <td>901</td>\n",
       "      <td>2656.268669</td>\n",
       "    </tr>\n",
       "    <tr>\n",
       "      <th>4</th>\n",
       "      <td>28.0</td>\n",
       "      <td>169.0</td>\n",
       "      <td>79.0</td>\n",
       "      <td>366.460692</td>\n",
       "      <td>901</td>\n",
       "      <td>2656.268669</td>\n",
       "    </tr>\n",
       "  </tbody>\n",
       "</table>\n",
       "</div>"
      ],
      "text/plain": [
       "    Age  Weight (kg)  Height (cm)         GDP  Total Country Medal Count  \\\n",
       "0  24.0        180.0         80.0  366.460692                        901   \n",
       "1  21.0        184.0         83.0  366.460692                        901   \n",
       "2  17.0        166.0         46.0  366.460692                        901   \n",
       "3  23.0        188.0        110.0  366.460692                        901   \n",
       "4  28.0        169.0         79.0  366.460692                        901   \n",
       "\n",
       "   Average Country GDP  \n",
       "0          2656.268669  \n",
       "1          2656.268669  \n",
       "2          2656.268669  \n",
       "3          2656.268669  \n",
       "4          2656.268669  "
      ]
     },
     "execution_count": 8,
     "metadata": {},
     "output_type": "execute_result"
    }
   ],
   "source": [
    "# Creating Data Frame of only useful columns\n",
    "\n",
    "df_new = df[['Age', 'Weight (kg)', 'Height (cm)', 'GDP', 'Total Country Medal Count', 'Average Country GDP',]]\n",
    "df_new.head()"
   ]
  },
  {
   "cell_type": "code",
   "execution_count": 9,
   "id": "6464e5ea",
   "metadata": {},
   "outputs": [
    {
     "data": {
      "text/plain": [
       "Age                            957\n",
       "Weight (kg)                   8494\n",
       "Height (cm)                   9040\n",
       "GDP                          12363\n",
       "Total Country Medal Count        0\n",
       "Average Country GDP              0\n",
       "dtype: int64"
      ]
     },
     "execution_count": 9,
     "metadata": {},
     "output_type": "execute_result"
    }
   ],
   "source": [
    "df_new.isnull().sum()"
   ]
  },
  {
   "cell_type": "code",
   "execution_count": 10,
   "id": "618b29e9",
   "metadata": {},
   "outputs": [
    {
     "name": "stderr",
     "output_type": "stream",
     "text": [
      "C:\\Users\\Matt\\Documents\\Data Analysis Course\\Anaconda\\lib\\site-packages\\pandas\\core\\generic.py:6392: SettingWithCopyWarning: \n",
      "A value is trying to be set on a copy of a slice from a DataFrame\n",
      "\n",
      "See the caveats in the documentation: https://pandas.pydata.org/pandas-docs/stable/user_guide/indexing.html#returning-a-view-versus-a-copy\n",
      "  return self._update_inplace(result)\n"
     ]
    }
   ],
   "source": [
    "# Getting rid of all missing values so the elbow technique will work\n",
    "\n",
    "df_new['Age'].fillna(df_new['Age'].mean(), inplace = True)\n",
    "df_new['Weight (kg)'].fillna(df_new['Weight (kg)'].mean(), inplace = True)\n",
    "df_new['Height (cm)'].fillna(df_new['Height (cm)'].mean(), inplace = True)\n",
    "df_new['GDP'].fillna(df_new['GDP'].mean(), inplace = True)"
   ]
  },
  {
   "cell_type": "code",
   "execution_count": 11,
   "id": "0d799153",
   "metadata": {},
   "outputs": [],
   "source": [
    "# Standardizing the data\n",
    "\n",
    "scaler = StandardScaler()\n",
    "segmentation_std = scaler.fit_transform(df_new)"
   ]
  },
  {
   "cell_type": "markdown",
   "id": "eaa10a45",
   "metadata": {},
   "source": [
    "## 2. The Elbow technique"
   ]
  },
  {
   "cell_type": "code",
   "execution_count": 12,
   "id": "75d560ca",
   "metadata": {},
   "outputs": [],
   "source": [
    "num_cl = range(1, 10) # Defines the range of potential clusters in the data.\n",
    "kmeans = [KMeans(n_clusters=i) for i in num_cl] # Defines k-means clusters in the range assigned above."
   ]
  },
  {
   "cell_type": "code",
   "execution_count": 14,
   "id": "d147241c",
   "metadata": {},
   "outputs": [
    {
     "data": {
      "text/plain": [
       "[-74928280926154.11,\n",
       " -31929908317638.227,\n",
       " -20282528279997.43,\n",
       " -15036984209414.477,\n",
       " -11413576764712.572,\n",
       " -8852175828120.879,\n",
       " -7620146487350.354,\n",
       " -6500325048588.024,\n",
       " -5845823904783.917]"
      ]
     },
     "execution_count": 14,
     "metadata": {},
     "output_type": "execute_result"
    }
   ],
   "source": [
    "score = [kmeans[i].fit(df_new).score(df_new) for i in range(len(kmeans))] # Creates a score that represents \n",
    "# a rate of variation for the given cluster option.\n",
    "\n",
    "score"
   ]
  },
  {
   "cell_type": "code",
   "execution_count": 15,
   "id": "5fa11896",
   "metadata": {},
   "outputs": [
    {
     "data": {
      "image/png": "[encoded data removed]",
      "text/plain": [
       "<Figure size 432x288 with 1 Axes>"
      ]
     },
     "metadata": {
      "needs_background": "light"
     },
     "output_type": "display_data"
    }
   ],
   "source": [
    "# Plot the elbow curve using PyLab.\n",
    "\n",
    "pl.plot(num_cl,score)\n",
    "pl.xlabel('Number of Clusters')\n",
    "pl.ylabel('Score')\n",
    "pl.title('Elbow Curve')\n",
    "pl.show()"
   ]
  },
  {
   "cell_type": "markdown",
   "id": "a11d6faf",
   "metadata": {},
   "source": [
    "#### Based on the elbow curve, it seems using 5 clusters should yield the best results because there seems to still be a decent amount of rise between 4 and 5, but after that it tails off."
   ]
  },
  {
   "cell_type": "markdown",
   "id": "5a5193ba",
   "metadata": {},
   "source": [
    "## 3. K-means Clustering"
   ]
  },
  {
   "cell_type": "code",
   "execution_count": 16,
   "id": "6620b77c",
   "metadata": {},
   "outputs": [],
   "source": [
    "# Create the k-means object.\n",
    "\n",
    "kmeans = KMeans(n_clusters = 5, n_jobs = -1) "
   ]
  },
  {
   "cell_type": "code",
   "execution_count": 17,
   "id": "0dac196d",
   "metadata": {},
   "outputs": [
    {
     "name": "stderr",
     "output_type": "stream",
     "text": [
      "C:\\Users\\Matt\\Documents\\Data Analysis Course\\Anaconda\\lib\\site-packages\\sklearn\\cluster\\_kmeans.py:792: FutureWarning: 'n_jobs' was deprecated in version 0.23 and will be removed in 1.0 (renaming of 0.25).\n",
      "  warnings.warn(\"'n_jobs' was deprecated in version 0.23 and will be\"\n"
     ]
    },
    {
     "data": {
      "text/plain": [
       "KMeans(n_clusters=5, n_jobs=-1)"
      ]
     },
     "execution_count": 17,
     "metadata": {},
     "output_type": "execute_result"
    }
   ],
   "source": [
    "# Fit the k-means object to the data.\n",
    "\n",
    "kmeans.fit(df_new)"
   ]
  },
  {
   "cell_type": "code",
   "execution_count": 18,
   "id": "ec47f246",
   "metadata": {},
   "outputs": [
    {
     "name": "stderr",
     "output_type": "stream",
     "text": [
      "C:\\Users\\Matt\\Documents\\Data Analysis Course\\Anaconda\\lib\\site-packages\\sklearn\\cluster\\_kmeans.py:792: FutureWarning: 'n_jobs' was deprecated in version 0.23 and will be removed in 1.0 (renaming of 0.25).\n",
      "  warnings.warn(\"'n_jobs' was deprecated in version 0.23 and will be\"\n",
      "C:\\Users\\Matt\\AppData\\Local\\Temp/ipykernel_19116/605757784.py:3: SettingWithCopyWarning: \n",
      "A value is trying to be set on a copy of a slice from a DataFrame.\n",
      "Try using .loc[row_indexer,col_indexer] = value instead\n",
      "\n",
      "See the caveats in the documentation: https://pandas.pydata.org/pandas-docs/stable/user_guide/indexing.html#returning-a-view-versus-a-copy\n",
      "  df_new['clusters'] = kmeans.fit_predict(df_new)\n"
     ]
    }
   ],
   "source": [
    "# Creating new column detailing which cluster each data point falls under\n",
    "\n",
    "df_new['clusters'] = kmeans.fit_predict(df_new)"
   ]
  },
  {
   "cell_type": "code",
   "execution_count": 19,
   "id": "bb9b6cd4",
   "metadata": {},
   "outputs": [
    {
     "data": {
      "text/html": [
       "<div>\n",
       "<style scoped>\n",
       "    .dataframe tbody tr th:only-of-type {\n",
       "        vertical-align: middle;\n",
       "    }\n",
       "\n",
       "    .dataframe tbody tr th {\n",
       "        vertical-align: top;\n",
       "    }\n",
       "\n",
       "    .dataframe thead th {\n",
       "        text-align: right;\n",
       "    }\n",
       "</style>\n",
       "<table border=\"1\" class=\"dataframe\">\n",
       "  <thead>\n",
       "    <tr style=\"text-align: right;\">\n",
       "      <th></th>\n",
       "      <th>Age</th>\n",
       "      <th>Weight (kg)</th>\n",
       "      <th>Height (cm)</th>\n",
       "      <th>GDP</th>\n",
       "      <th>Total Country Medal Count</th>\n",
       "      <th>Average Country GDP</th>\n",
       "      <th>clusters</th>\n",
       "    </tr>\n",
       "  </thead>\n",
       "  <tbody>\n",
       "    <tr>\n",
       "      <th>0</th>\n",
       "      <td>24.0</td>\n",
       "      <td>180.0</td>\n",
       "      <td>80.0</td>\n",
       "      <td>366.460692</td>\n",
       "      <td>901</td>\n",
       "      <td>2656.268669</td>\n",
       "      <td>0</td>\n",
       "    </tr>\n",
       "    <tr>\n",
       "      <th>1</th>\n",
       "      <td>21.0</td>\n",
       "      <td>184.0</td>\n",
       "      <td>83.0</td>\n",
       "      <td>366.460692</td>\n",
       "      <td>901</td>\n",
       "      <td>2656.268669</td>\n",
       "      <td>0</td>\n",
       "    </tr>\n",
       "    <tr>\n",
       "      <th>2</th>\n",
       "      <td>17.0</td>\n",
       "      <td>166.0</td>\n",
       "      <td>46.0</td>\n",
       "      <td>366.460692</td>\n",
       "      <td>901</td>\n",
       "      <td>2656.268669</td>\n",
       "      <td>0</td>\n",
       "    </tr>\n",
       "    <tr>\n",
       "      <th>3</th>\n",
       "      <td>23.0</td>\n",
       "      <td>188.0</td>\n",
       "      <td>110.0</td>\n",
       "      <td>366.460692</td>\n",
       "      <td>901</td>\n",
       "      <td>2656.268669</td>\n",
       "      <td>0</td>\n",
       "    </tr>\n",
       "    <tr>\n",
       "      <th>4</th>\n",
       "      <td>28.0</td>\n",
       "      <td>169.0</td>\n",
       "      <td>79.0</td>\n",
       "      <td>366.460692</td>\n",
       "      <td>901</td>\n",
       "      <td>2656.268669</td>\n",
       "      <td>0</td>\n",
       "    </tr>\n",
       "  </tbody>\n",
       "</table>\n",
       "</div>"
      ],
      "text/plain": [
       "    Age  Weight (kg)  Height (cm)         GDP  Total Country Medal Count  \\\n",
       "0  24.0        180.0         80.0  366.460692                        901   \n",
       "1  21.0        184.0         83.0  366.460692                        901   \n",
       "2  17.0        166.0         46.0  366.460692                        901   \n",
       "3  23.0        188.0        110.0  366.460692                        901   \n",
       "4  28.0        169.0         79.0  366.460692                        901   \n",
       "\n",
       "   Average Country GDP  clusters  \n",
       "0          2656.268669         0  \n",
       "1          2656.268669         0  \n",
       "2          2656.268669         0  \n",
       "3          2656.268669         0  \n",
       "4          2656.268669         0  "
      ]
     },
     "execution_count": 19,
     "metadata": {},
     "output_type": "execute_result"
    }
   ],
   "source": [
    "df_new.head()"
   ]
  },
  {
   "cell_type": "code",
   "execution_count": 20,
   "id": "912e6f47",
   "metadata": {},
   "outputs": [
    {
     "data": {
      "text/plain": [
       "0    67535\n",
       "1    38217\n",
       "3    30724\n",
       "4    25471\n",
       "2     2461\n",
       "Name: clusters, dtype: int64"
      ]
     },
     "execution_count": 20,
     "metadata": {},
     "output_type": "execute_result"
    }
   ],
   "source": [
    "# Checking value count for 'clusters'\n",
    "\n",
    "df_new['clusters'].value_counts()"
   ]
  },
  {
   "cell_type": "code",
   "execution_count": 21,
   "id": "6c03fd48",
   "metadata": {},
   "outputs": [
    {
     "data": {
      "image/png": "[encoded data removed]",
      "text/plain": [
       "<Figure size 864x576 with 1 Axes>"
      ]
     },
     "metadata": {
      "needs_background": "light"
     },
     "output_type": "display_data"
    }
   ],
   "source": [
    "# Plot the clusters for the \"GDP\" and \"Total Country Medal Count\" variables.\n",
    "\n",
    "plt.figure(figsize=(12,8))\n",
    "ax = sns.scatterplot(x=df_new['GDP'], y=df['Total Country Medal Count'], hue=kmeans.labels_, s=50) \n",
    "\n",
    "ax.grid(True)\n",
    "plt.xlabel('GDP') # Label x-axis.\n",
    "plt.ylabel('Medal Count')#Label y-axis.\n",
    "plt.title('GDP vs. Total Medal Count clusters')\n",
    "plt.show()"
   ]
  },
  {
   "cell_type": "code",
   "execution_count": 22,
   "id": "a770ce0c",
   "metadata": {},
   "outputs": [
    {
     "data": {
      "image/png": "[encoded data removed]",
      "text/plain": [
       "<Figure size 864x576 with 1 Axes>"
      ]
     },
     "metadata": {
      "needs_background": "light"
     },
     "output_type": "display_data"
    }
   ],
   "source": [
    "# Plot the clusters for the \"Average GDP\" and \"Total Country Medal Count\" variables.\n",
    "\n",
    "plt.figure(figsize=(12,8))\n",
    "ax = sns.scatterplot(x=df_new['Average Country GDP'], y=df['Total Country Medal Count'], hue=kmeans.labels_, s=50) \n",
    "\n",
    "ax.grid(True)\n",
    "plt.xlabel('Average Country GDP') # Label x-axis.\n",
    "plt.ylabel('Medal Count')#Label y-axis.\n",
    "plt.title('Average Country GDP vs. Total Medal Count clusters')\n",
    "plt.show()"
   ]
  },
  {
   "cell_type": "code",
   "execution_count": 23,
   "id": "22accdc3",
   "metadata": {},
   "outputs": [],
   "source": [
    "# Exporting chart\n",
    "ax.figure.savefig(os.path.join(path, '04 Analysis', 'cluster.png'))"
   ]
  },
  {
   "cell_type": "code",
   "execution_count": null,
   "id": "30f77b24",
   "metadata": {},
   "outputs": [],
   "source": [
    "# Plot the clusters for the \"Height\" and \"Total Country Medal Count\" variables.\n",
    "\n",
    "plt.figure(figsize=(12,8))\n",
    "ax = sns.scatterplot(x=df_new['Height (cm)'], y=df['Total Country Medal Count'], hue=kmeans.labels_, s=50) \n",
    "\n",
    "ax.grid(True)\n",
    "plt.xlabel('Height') # Label x-axis.\n",
    "plt.ylabel('Medal Count')#Label y-axis.\n",
    "plt.title('Height vs. Total Medal Count clusters')\n",
    "plt.show()"
   ]
  },
  {
   "cell_type": "markdown",
   "id": "4e1f2b47",
   "metadata": {},
   "source": [
    "#### Based on the data we're working with, there doesn't seem to be a common thread for countries with high medal counts. Height, GDP, and Average GDP over a 50-year span doesn't have a correlation with how many medals a country will win at the olympics. "
   ]
  },
  {
   "cell_type": "code",
   "execution_count": null,
   "id": "029b67fa",
   "metadata": {},
   "outputs": [],
   "source": [
    "# Renaming clusters to coincide with the visualizations\n",
    "\n",
    "df_new.loc[df_new['clusters'] == 2, 'cluster'] = 'Dark pink'\n",
    "df_new.loc[df_new['clusters'] == 1, 'cluster'] = 'pink'\n",
    "df_new.loc[df_new['clusters'] == 0, 'cluster'] = 'Light pink'\n",
    "df_new.loc[df_new['clusters'] == 3, 'cluster'] = 'Purple'\n",
    "df_new.loc[df_new['clusters'] == 4, 'cluster'] = 'Dark Purple'"
   ]
  },
  {
   "cell_type": "code",
   "execution_count": null,
   "id": "e3e18d7b",
   "metadata": {},
   "outputs": [],
   "source": [
    "# Finding descriptive statistics\n",
    "\n",
    "df_new.groupby('clusters').agg({'Height (cm)' : ['mean', 'median'],\n",
    "                              'Weight (kg)' : ['mean', 'median'],\n",
    "                              'GDP' : ['mean', 'median'],\n",
    "                                'Total Country Medal Count' : ['mean', 'median'],\n",
    "                                'Average Country GDP' : ['mean', 'median'],\n",
    "                                'Age' : ['mean', 'median']})"
   ]
  },
  {
   "cell_type": "markdown",
   "id": "7bc2e284",
   "metadata": {},
   "source": [
    "#### Cluster 2 makes sense to me, as it's the cluster with the lowest Average country GDP and the lowest medal count. But then you look at Cluster 3, which has the highest average GDP, and it has the 2nd lowest medal count in terms of mean. "
   ]
  },
  {
   "cell_type": "markdown",
   "id": "12520915",
   "metadata": {},
   "source": [
    "#### Moving forward, I would like to include population in the analysis. If you look back at the Average country GDP vs Total medal count visualization, you can see an outlier at the top of the graph. That point is the US. It has by far the most medals, but is far from the country with the highest average GDP. I would like to see how population plays a part in that relationship as well. "
   ]
  },
  {
   "cell_type": "code",
   "execution_count": null,
   "id": "08398fd6",
   "metadata": {},
   "outputs": [],
   "source": [
    "df_new_1.head()"
   ]
  },
  {
   "cell_type": "code",
   "execution_count": null,
   "id": "93a3c687",
   "metadata": {},
   "outputs": [],
   "source": [
    "df_new_1.to_csv(os.path.join(path, '02 Data','Prepared Data', 'Cluster_Data.csv'))"
   ]
  },
  {
   "cell_type": "code",
   "execution_count": null,
   "id": "3b9d2e94",
   "metadata": {},
   "outputs": [],
   "source": []
  }
 ],
 "metadata": {
  "kernelspec": {
   "display_name": "Python 3 (ipykernel)",
   "language": "python",
   "name": "python3"
  },
  "language_info": {
   "codemirror_mode": {
    "name": "ipython",
    "version": 3
   },
   "file_extension": ".py",
   "mimetype": "text/x-python",
   "name": "python",
   "nbconvert_exporter": "python",
   "pygments_lexer": "ipython3",
   "version": "3.9.7"
  }
 },
 "nbformat": 4,
 "nbformat_minor": 5
}
