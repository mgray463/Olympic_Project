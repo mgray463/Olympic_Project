{
 "cells": [
  {
   "cell_type": "markdown",
   "id": "664d7c42",
   "metadata": {},
   "source": [
    "# Supervised Machine Learning"
   ]
  },
  {
   "cell_type": "markdown",
   "id": "a981e60e",
   "metadata": {},
   "source": [
    "### 1. Preparing Notebook\n",
    "\n",
    "### 2. Data Cleaning\n",
    "\n",
    "### 3. Prepping Data for Regression Analysis\n",
    "\n",
    "### 4. Running a Regression Analysis"
   ]
  },
  {
   "cell_type": "markdown",
   "id": "9486124a",
   "metadata": {},
   "source": [
    "## 1. Preparing Notebook"
   ]
  },
  {
   "cell_type": "code",
   "execution_count": 2,
   "id": "41543d24",
   "metadata": {},
   "outputs": [],
   "source": [
    "import pandas as pd\n",
    "import numpy as np\n",
    "import seaborn as sns\n",
    "import matplotlib\n",
    "import matplotlib.pyplot as plt\n",
    "import os\n",
    "import sklearn\n",
    "from sklearn.model_selection import train_test_split \n",
    "from sklearn.linear_model import LinearRegression\n",
    "from sklearn.metrics import mean_squared_error, r2_score"
   ]
  },
  {
   "cell_type": "code",
   "execution_count": 3,
   "id": "548dcc12",
   "metadata": {},
   "outputs": [],
   "source": [
    "# This option ensures that the graphs you create are displayed within the notebook without the need to \"call\" them specifically.\n",
    "\n",
    "%matplotlib inline"
   ]
  },
  {
   "cell_type": "code",
   "execution_count": 4,
   "id": "fdc61fae",
   "metadata": {},
   "outputs": [],
   "source": [
    "path = r'C:\\Users\\Matt\\Documents\\Data Analysis Course\\Medal_Count_GDP_Project'"
   ]
  },
  {
   "cell_type": "code",
   "execution_count": 5,
   "id": "2bfae055",
   "metadata": {},
   "outputs": [],
   "source": [
    "# Importing data set\n",
    "\n",
    "df = pd.read_csv(os.path.join(path, '02 Data','Prepared Data','Average_GDP.csv'))"
   ]
  },
  {
   "cell_type": "markdown",
   "id": "0d07535a",
   "metadata": {},
   "source": [
    "# 2. Data Cleaning"
   ]
  },
  {
   "cell_type": "code",
   "execution_count": 6,
   "id": "c56eefd1",
   "metadata": {},
   "outputs": [
    {
     "data": {
      "text/plain": [
       "(164408, 19)"
      ]
     },
     "execution_count": 6,
     "metadata": {},
     "output_type": "execute_result"
    }
   ],
   "source": [
    "# Checking shape\n",
    "\n",
    "df.shape"
   ]
  },
  {
   "cell_type": "code",
   "execution_count": 7,
   "id": "24a21467",
   "metadata": {},
   "outputs": [
    {
     "data": {
      "text/plain": [
       "Index(['Unnamed: 0', 'Unnamed: 0.1', 'ID', 'Name', 'Sex', 'Age', 'Weight (kg)',\n",
       "       'Height (cm)', 'Country Name', 'Year', 'Season', 'Location', 'Sport',\n",
       "       'Event', 'Medal', 'After 1960', 'GDP', 'Total Country Medal Count',\n",
       "       'Average Country GDP'],\n",
       "      dtype='object')"
      ]
     },
     "execution_count": 7,
     "metadata": {},
     "output_type": "execute_result"
    }
   ],
   "source": [
    "# Checking Columns\n",
    "\n",
    "df.columns"
   ]
  },
  {
   "cell_type": "code",
   "execution_count": 8,
   "id": "6b6b58c6",
   "metadata": {},
   "outputs": [],
   "source": [
    "# Getting rid of unneeded columns\n",
    "\n",
    "df = df.drop(columns = ['Unnamed: 0', 'Unnamed: 0.1', 'ID'])"
   ]
  },
  {
   "cell_type": "code",
   "execution_count": 9,
   "id": "6f692ea7",
   "metadata": {
    "scrolled": true
   },
   "outputs": [
    {
     "data": {
      "text/html": [
       "<div>\n",
       "<style scoped>\n",
       "    .dataframe tbody tr th:only-of-type {\n",
       "        vertical-align: middle;\n",
       "    }\n",
       "\n",
       "    .dataframe tbody tr th {\n",
       "        vertical-align: top;\n",
       "    }\n",
       "\n",
       "    .dataframe thead th {\n",
       "        text-align: right;\n",
       "    }\n",
       "</style>\n",
       "<table border=\"1\" class=\"dataframe\">\n",
       "  <thead>\n",
       "    <tr style=\"text-align: right;\">\n",
       "      <th></th>\n",
       "      <th>Name</th>\n",
       "      <th>Sex</th>\n",
       "      <th>Age</th>\n",
       "      <th>Weight (kg)</th>\n",
       "      <th>Height (cm)</th>\n",
       "      <th>Country Name</th>\n",
       "      <th>Year</th>\n",
       "      <th>Season</th>\n",
       "      <th>Location</th>\n",
       "      <th>Sport</th>\n",
       "      <th>Event</th>\n",
       "      <th>Medal</th>\n",
       "      <th>After 1960</th>\n",
       "      <th>GDP</th>\n",
       "      <th>Total Country Medal Count</th>\n",
       "      <th>Average Country GDP</th>\n",
       "    </tr>\n",
       "  </thead>\n",
       "  <tbody>\n",
       "    <tr>\n",
       "      <th>0</th>\n",
       "      <td>A Dijiang</td>\n",
       "      <td>M</td>\n",
       "      <td>24.0</td>\n",
       "      <td>180.0</td>\n",
       "      <td>80.0</td>\n",
       "      <td>China</td>\n",
       "      <td>1992</td>\n",
       "      <td>Summer</td>\n",
       "      <td>Barcelona</td>\n",
       "      <td>Basketball</td>\n",
       "      <td>Basketball Men's Basketball</td>\n",
       "      <td>NaN</td>\n",
       "      <td>Yes</td>\n",
       "      <td>366.460692</td>\n",
       "      <td>901</td>\n",
       "      <td>2656.268669</td>\n",
       "    </tr>\n",
       "    <tr>\n",
       "      <th>1</th>\n",
       "      <td>Bai Chongguang</td>\n",
       "      <td>M</td>\n",
       "      <td>21.0</td>\n",
       "      <td>184.0</td>\n",
       "      <td>83.0</td>\n",
       "      <td>China</td>\n",
       "      <td>1992</td>\n",
       "      <td>Summer</td>\n",
       "      <td>Barcelona</td>\n",
       "      <td>Boxing</td>\n",
       "      <td>Boxing Men's Light-Heavyweight</td>\n",
       "      <td>NaN</td>\n",
       "      <td>Yes</td>\n",
       "      <td>366.460692</td>\n",
       "      <td>901</td>\n",
       "      <td>2656.268669</td>\n",
       "    </tr>\n",
       "    <tr>\n",
       "      <th>2</th>\n",
       "      <td>Bai Mei</td>\n",
       "      <td>F</td>\n",
       "      <td>17.0</td>\n",
       "      <td>166.0</td>\n",
       "      <td>46.0</td>\n",
       "      <td>China</td>\n",
       "      <td>1992</td>\n",
       "      <td>Summer</td>\n",
       "      <td>Barcelona</td>\n",
       "      <td>Rhythmic Gymnastics</td>\n",
       "      <td>Rhythmic Gymnastics Women's Individual</td>\n",
       "      <td>NaN</td>\n",
       "      <td>Yes</td>\n",
       "      <td>366.460692</td>\n",
       "      <td>901</td>\n",
       "      <td>2656.268669</td>\n",
       "    </tr>\n",
       "    <tr>\n",
       "      <th>3</th>\n",
       "      <td>Bi Zhong</td>\n",
       "      <td>M</td>\n",
       "      <td>23.0</td>\n",
       "      <td>188.0</td>\n",
       "      <td>110.0</td>\n",
       "      <td>China</td>\n",
       "      <td>1992</td>\n",
       "      <td>Summer</td>\n",
       "      <td>Barcelona</td>\n",
       "      <td>Athletics</td>\n",
       "      <td>Athletics Men's Hammer Throw</td>\n",
       "      <td>NaN</td>\n",
       "      <td>Yes</td>\n",
       "      <td>366.460692</td>\n",
       "      <td>901</td>\n",
       "      <td>2656.268669</td>\n",
       "    </tr>\n",
       "    <tr>\n",
       "      <th>4</th>\n",
       "      <td>Cai Yanshu</td>\n",
       "      <td>M</td>\n",
       "      <td>28.0</td>\n",
       "      <td>169.0</td>\n",
       "      <td>79.0</td>\n",
       "      <td>China</td>\n",
       "      <td>1992</td>\n",
       "      <td>Summer</td>\n",
       "      <td>Barcelona</td>\n",
       "      <td>Weightlifting</td>\n",
       "      <td>Weightlifting Men's Light-Heavyweight</td>\n",
       "      <td>NaN</td>\n",
       "      <td>Yes</td>\n",
       "      <td>366.460692</td>\n",
       "      <td>901</td>\n",
       "      <td>2656.268669</td>\n",
       "    </tr>\n",
       "    <tr>\n",
       "      <th>5</th>\n",
       "      <td>Cao Mianying</td>\n",
       "      <td>F</td>\n",
       "      <td>25.0</td>\n",
       "      <td>176.0</td>\n",
       "      <td>71.0</td>\n",
       "      <td>China</td>\n",
       "      <td>1992</td>\n",
       "      <td>Summer</td>\n",
       "      <td>Barcelona</td>\n",
       "      <td>Rowing</td>\n",
       "      <td>Rowing Women's Coxless Fours</td>\n",
       "      <td>NaN</td>\n",
       "      <td>Yes</td>\n",
       "      <td>366.460692</td>\n",
       "      <td>901</td>\n",
       "      <td>2656.268669</td>\n",
       "    </tr>\n",
       "    <tr>\n",
       "      <th>6</th>\n",
       "      <td>Cao Mianying</td>\n",
       "      <td>F</td>\n",
       "      <td>25.0</td>\n",
       "      <td>176.0</td>\n",
       "      <td>71.0</td>\n",
       "      <td>China</td>\n",
       "      <td>1992</td>\n",
       "      <td>Summer</td>\n",
       "      <td>Barcelona</td>\n",
       "      <td>Rowing</td>\n",
       "      <td>Rowing Women's Coxed Eights</td>\n",
       "      <td>NaN</td>\n",
       "      <td>Yes</td>\n",
       "      <td>366.460692</td>\n",
       "      <td>901</td>\n",
       "      <td>2656.268669</td>\n",
       "    </tr>\n",
       "    <tr>\n",
       "      <th>7</th>\n",
       "      <td>Chao Lu</td>\n",
       "      <td>M</td>\n",
       "      <td>22.0</td>\n",
       "      <td>180.0</td>\n",
       "      <td>75.0</td>\n",
       "      <td>China</td>\n",
       "      <td>1992</td>\n",
       "      <td>Summer</td>\n",
       "      <td>Barcelona</td>\n",
       "      <td>Boxing</td>\n",
       "      <td>Boxing Men's Middleweight</td>\n",
       "      <td>NaN</td>\n",
       "      <td>Yes</td>\n",
       "      <td>366.460692</td>\n",
       "      <td>901</td>\n",
       "      <td>2656.268669</td>\n",
       "    </tr>\n",
       "    <tr>\n",
       "      <th>8</th>\n",
       "      <td>Chen Biao</td>\n",
       "      <td>M</td>\n",
       "      <td>21.0</td>\n",
       "      <td>188.0</td>\n",
       "      <td>80.0</td>\n",
       "      <td>China</td>\n",
       "      <td>1992</td>\n",
       "      <td>Summer</td>\n",
       "      <td>Barcelona</td>\n",
       "      <td>Fencing</td>\n",
       "      <td>Fencing Men's Foil, Team</td>\n",
       "      <td>NaN</td>\n",
       "      <td>Yes</td>\n",
       "      <td>366.460692</td>\n",
       "      <td>901</td>\n",
       "      <td>2656.268669</td>\n",
       "    </tr>\n",
       "    <tr>\n",
       "      <th>9</th>\n",
       "      <td>Chen Cailiang</td>\n",
       "      <td>M</td>\n",
       "      <td>22.0</td>\n",
       "      <td>165.0</td>\n",
       "      <td>63.0</td>\n",
       "      <td>China</td>\n",
       "      <td>1992</td>\n",
       "      <td>Summer</td>\n",
       "      <td>Barcelona</td>\n",
       "      <td>Judo</td>\n",
       "      <td>Judo Men's Extra-Lightweight</td>\n",
       "      <td>NaN</td>\n",
       "      <td>Yes</td>\n",
       "      <td>366.460692</td>\n",
       "      <td>901</td>\n",
       "      <td>2656.268669</td>\n",
       "    </tr>\n",
       "  </tbody>\n",
       "</table>\n",
       "</div>"
      ],
      "text/plain": [
       "             Name Sex   Age  Weight (kg)  Height (cm) Country Name  Year  \\\n",
       "0       A Dijiang   M  24.0        180.0         80.0        China  1992   \n",
       "1  Bai Chongguang   M  21.0        184.0         83.0        China  1992   \n",
       "2         Bai Mei   F  17.0        166.0         46.0        China  1992   \n",
       "3        Bi Zhong   M  23.0        188.0        110.0        China  1992   \n",
       "4      Cai Yanshu   M  28.0        169.0         79.0        China  1992   \n",
       "5    Cao Mianying   F  25.0        176.0         71.0        China  1992   \n",
       "6    Cao Mianying   F  25.0        176.0         71.0        China  1992   \n",
       "7         Chao Lu   M  22.0        180.0         75.0        China  1992   \n",
       "8       Chen Biao   M  21.0        188.0         80.0        China  1992   \n",
       "9   Chen Cailiang   M  22.0        165.0         63.0        China  1992   \n",
       "\n",
       "   Season   Location                Sport  \\\n",
       "0  Summer  Barcelona           Basketball   \n",
       "1  Summer  Barcelona               Boxing   \n",
       "2  Summer  Barcelona  Rhythmic Gymnastics   \n",
       "3  Summer  Barcelona            Athletics   \n",
       "4  Summer  Barcelona        Weightlifting   \n",
       "5  Summer  Barcelona               Rowing   \n",
       "6  Summer  Barcelona               Rowing   \n",
       "7  Summer  Barcelona               Boxing   \n",
       "8  Summer  Barcelona              Fencing   \n",
       "9  Summer  Barcelona                 Judo   \n",
       "\n",
       "                                    Event Medal After 1960         GDP  \\\n",
       "0             Basketball Men's Basketball   NaN        Yes  366.460692   \n",
       "1          Boxing Men's Light-Heavyweight   NaN        Yes  366.460692   \n",
       "2  Rhythmic Gymnastics Women's Individual   NaN        Yes  366.460692   \n",
       "3            Athletics Men's Hammer Throw   NaN        Yes  366.460692   \n",
       "4   Weightlifting Men's Light-Heavyweight   NaN        Yes  366.460692   \n",
       "5            Rowing Women's Coxless Fours   NaN        Yes  366.460692   \n",
       "6             Rowing Women's Coxed Eights   NaN        Yes  366.460692   \n",
       "7               Boxing Men's Middleweight   NaN        Yes  366.460692   \n",
       "8                Fencing Men's Foil, Team   NaN        Yes  366.460692   \n",
       "9            Judo Men's Extra-Lightweight   NaN        Yes  366.460692   \n",
       "\n",
       "   Total Country Medal Count  Average Country GDP  \n",
       "0                        901          2656.268669  \n",
       "1                        901          2656.268669  \n",
       "2                        901          2656.268669  \n",
       "3                        901          2656.268669  \n",
       "4                        901          2656.268669  \n",
       "5                        901          2656.268669  \n",
       "6                        901          2656.268669  \n",
       "7                        901          2656.268669  \n",
       "8                        901          2656.268669  \n",
       "9                        901          2656.268669  "
      ]
     },
     "execution_count": 9,
     "metadata": {},
     "output_type": "execute_result"
    }
   ],
   "source": [
    "df.head(10)"
   ]
  },
  {
   "cell_type": "code",
   "execution_count": 10,
   "id": "f4dcc5de",
   "metadata": {},
   "outputs": [
    {
     "data": {
      "text/plain": [
       "Name                              0\n",
       "Sex                               0\n",
       "Age                             957\n",
       "Weight (kg)                    8494\n",
       "Height (cm)                    9040\n",
       "Country Name                      0\n",
       "Year                              0\n",
       "Season                            0\n",
       "Location                          0\n",
       "Sport                             0\n",
       "Event                             0\n",
       "Medal                        144357\n",
       "After 1960                        0\n",
       "GDP                           12363\n",
       "Total Country Medal Count         0\n",
       "Average Country GDP              48\n",
       "dtype: int64"
      ]
     },
     "execution_count": 10,
     "metadata": {},
     "output_type": "execute_result"
    }
   ],
   "source": [
    "# Checking for missing values\n",
    "\n",
    "df.isnull().sum()"
   ]
  },
  {
   "cell_type": "code",
   "execution_count": 11,
   "id": "283006dd",
   "metadata": {},
   "outputs": [
    {
     "data": {
      "text/plain": [
       "count    164360.000000\n",
       "mean      16970.539406\n",
       "std       12009.986327\n",
       "min         153.628683\n",
       "25%        4768.396582\n",
       "50%       19245.916620\n",
       "75%       25729.523570\n",
       "max      104420.599500\n",
       "Name: Average Country GDP, dtype: float64"
      ]
     },
     "execution_count": 11,
     "metadata": {},
     "output_type": "execute_result"
    }
   ],
   "source": [
    "df['Average Country GDP'].describe()"
   ]
  },
  {
   "cell_type": "code",
   "execution_count": 12,
   "id": "05b2e833",
   "metadata": {},
   "outputs": [],
   "source": [
    "# Imputing the mean for the missing values in the 'GDP' column. \n",
    "# Not worried about the missing values in the other fields. None will affect our analysis.\n",
    "\n",
    "df['Average Country GDP'].fillna(df['Average Country GDP'].mean(), inplace = True)"
   ]
  },
  {
   "cell_type": "code",
   "execution_count": 13,
   "id": "35cc86e1",
   "metadata": {
    "scrolled": false
   },
   "outputs": [
    {
     "data": {
      "text/plain": [
       "Name                              0\n",
       "Sex                               0\n",
       "Age                             957\n",
       "Weight (kg)                    8494\n",
       "Height (cm)                    9040\n",
       "Country Name                      0\n",
       "Year                              0\n",
       "Season                            0\n",
       "Location                          0\n",
       "Sport                             0\n",
       "Event                             0\n",
       "Medal                        144357\n",
       "After 1960                        0\n",
       "GDP                           12363\n",
       "Total Country Medal Count         0\n",
       "Average Country GDP               0\n",
       "dtype: int64"
      ]
     },
     "execution_count": 13,
     "metadata": {},
     "output_type": "execute_result"
    }
   ],
   "source": [
    "# Checking imputation\n",
    "\n",
    "df.isnull().sum()"
   ]
  },
  {
   "cell_type": "markdown",
   "id": "253c5f5d",
   "metadata": {},
   "source": [
    "## 4. Prepping Data for Regression Analysis"
   ]
  },
  {
   "cell_type": "code",
   "execution_count": 14,
   "id": "37c45a70",
   "metadata": {},
   "outputs": [
    {
     "data": {
      "image/png": "[encoded data removed]",
      "text/plain": [
       "<Figure size 432x288 with 1 Axes>"
      ]
     },
     "metadata": {
      "needs_background": "light"
     },
     "output_type": "display_data"
    }
   ],
   "source": [
    "# Creating scatterplot to visualize our two variables\n",
    "\n",
    "df.plot(x = 'Average Country GDP', y='Total Country Medal Count',style='o') # The style option creates a scatterplot; without it, we only have lines.\n",
    "plt.title('Average GDP vs. Medal Count')  \n",
    "plt.xlabel('Average GDP')  \n",
    "plt.ylabel('Medal Count')  \n",
    "plt.show()"
   ]
  },
  {
   "cell_type": "markdown",
   "id": "495d3f9d",
   "metadata": {},
   "source": [
    "#### My hypothesis is: As the GDP of a country increases, so too does that country's medal count at the Olympics."
   ]
  },
  {
   "cell_type": "code",
   "execution_count": 15,
   "id": "431fd660",
   "metadata": {},
   "outputs": [],
   "source": [
    "# Reshape the variables into NumPy arrays and put them into separate objects.\n",
    "\n",
    "X = df['Average Country GDP'].values.reshape(-1,1)\n",
    "y = df['Total Country Medal Count'].values.reshape(-1,1)"
   ]
  },
  {
   "cell_type": "code",
   "execution_count": 16,
   "id": "3f1e6b5f",
   "metadata": {
    "scrolled": true
   },
   "outputs": [
    {
     "data": {
      "text/plain": [
       "array([[2656.268669 ],\n",
       "       [2656.268669 ],\n",
       "       [2656.268669 ],\n",
       "       ...,\n",
       "       [ 572.3816367],\n",
       "       [ 572.3816367],\n",
       "       [ 572.3816367]])"
      ]
     },
     "execution_count": 16,
     "metadata": {},
     "output_type": "execute_result"
    }
   ],
   "source": [
    "X"
   ]
  },
  {
   "cell_type": "code",
   "execution_count": 17,
   "id": "cd9a47aa",
   "metadata": {},
   "outputs": [
    {
     "data": {
      "text/plain": [
       "array([[901],\n",
       "       [901],\n",
       "       [901],\n",
       "       ...,\n",
       "       [  0],\n",
       "       [  0],\n",
       "       [  0]], dtype=int64)"
      ]
     },
     "execution_count": 17,
     "metadata": {},
     "output_type": "execute_result"
    }
   ],
   "source": [
    "y"
   ]
  },
  {
   "cell_type": "code",
   "execution_count": 18,
   "id": "641e6316",
   "metadata": {},
   "outputs": [],
   "source": [
    "# Split data into a training set and a test set.\n",
    "\n",
    "X_train, X_test, y_train, y_test = train_test_split(X, y, test_size=0.3, random_state=0)"
   ]
  },
  {
   "cell_type": "markdown",
   "id": "71a0f593",
   "metadata": {},
   "source": [
    "## 3. Running a Regression Analysis"
   ]
  },
  {
   "cell_type": "code",
   "execution_count": 19,
   "id": "31ee9fe2",
   "metadata": {},
   "outputs": [],
   "source": [
    "# Create a regression object.\n",
    "\n",
    "regression = LinearRegression()  # This is the regression object, which will be fit onto the training set."
   ]
  },
  {
   "cell_type": "code",
   "execution_count": 20,
   "id": "aee2a13e",
   "metadata": {},
   "outputs": [
    {
     "data": {
      "text/plain": [
       "LinearRegression()"
      ]
     },
     "execution_count": 20,
     "metadata": {},
     "output_type": "execute_result"
    }
   ],
   "source": [
    "# Fit the regression object onto the training set.\n",
    "\n",
    "regression.fit(X_train, y_train)"
   ]
  },
  {
   "cell_type": "code",
   "execution_count": 21,
   "id": "d720f3b1",
   "metadata": {},
   "outputs": [],
   "source": [
    "# Predict the values of y using X.\n",
    "\n",
    "y_predicted = regression.predict(X_test)"
   ]
  },
  {
   "cell_type": "code",
   "execution_count": 22,
   "id": "9521a569",
   "metadata": {},
   "outputs": [
    {
     "data": {
      "image/png": "[encoded data removed]",
      "text/plain": [
       "<Figure size 432x288 with 1 Axes>"
      ]
     },
     "metadata": {
      "needs_background": "light"
     },
     "output_type": "display_data"
    }
   ],
   "source": [
    "# Create a plot that shows the regression line from the model on the test set.\n",
    "\n",
    "plot_test = plt\n",
    "plot_test.scatter(X_test, y_test, color='gray', s = 15)\n",
    "plot_test.plot(X_test, y_predicted, color='red', linewidth =3)\n",
    "plot_test.title('Average Country GDP vs. Medal Count (Test set)')\n",
    "plot_test.xlabel('Average GDP')\n",
    "plot_test.ylabel('Medal Count')\n",
    "plot_test.show()"
   ]
  },
  {
   "cell_type": "markdown",
   "id": "28425b16",
   "metadata": {},
   "source": [
    "#### The regression line doesn't seem to be all that accurate, with many points existing really far off the fitted line"
   ]
  },
  {
   "cell_type": "code",
   "execution_count": 23,
   "id": "c5606cb4",
   "metadata": {},
   "outputs": [],
   "source": [
    "# Create objects that contain the model summary statistics.\n",
    "\n",
    "rmse = mean_squared_error(y_test, y_predicted) \n",
    "r2 = r2_score(y_test, y_predicted)"
   ]
  },
  {
   "cell_type": "code",
   "execution_count": 24,
   "id": "fc6cf7b1",
   "metadata": {},
   "outputs": [
    {
     "name": "stdout",
     "output_type": "stream",
     "text": [
      "Slope: [[0.03282829]]\n",
      "Mean squared error:  625831.1202776628\n",
      "R2 score:  0.19140289362531904\n"
     ]
    }
   ],
   "source": [
    "# Checking summary stats\n",
    "\n",
    "print('Slope:' ,regression.coef_)\n",
    "print('Mean squared error: ', rmse)\n",
    "print('R2 score: ', r2)"
   ]
  },
  {
   "cell_type": "code",
   "execution_count": 25,
   "id": "7bba3d45",
   "metadata": {},
   "outputs": [
    {
     "data": {
      "text/plain": [
       "array([[ 983.75111405],\n",
       "       [1217.5376289 ],\n",
       "       [1014.66530695],\n",
       "       ...,\n",
       "       [ 441.90283329],\n",
       "       [ 511.67536719],\n",
       "       [1517.09634733]])"
      ]
     },
     "execution_count": 25,
     "metadata": {},
     "output_type": "execute_result"
    }
   ],
   "source": [
    "# Array of predicted y values\n",
    "\n",
    "y_predicted"
   ]
  },
  {
   "cell_type": "code",
   "execution_count": 26,
   "id": "4ea11b15",
   "metadata": {
    "scrolled": true
   },
   "outputs": [
    {
     "data": {
      "text/html": [
       "<div>\n",
       "<style scoped>\n",
       "    .dataframe tbody tr th:only-of-type {\n",
       "        vertical-align: middle;\n",
       "    }\n",
       "\n",
       "    .dataframe tbody tr th {\n",
       "        vertical-align: top;\n",
       "    }\n",
       "\n",
       "    .dataframe thead th {\n",
       "        text-align: right;\n",
       "    }\n",
       "</style>\n",
       "<table border=\"1\" class=\"dataframe\">\n",
       "  <thead>\n",
       "    <tr style=\"text-align: right;\">\n",
       "      <th></th>\n",
       "      <th>Actual</th>\n",
       "      <th>Predicted</th>\n",
       "    </tr>\n",
       "  </thead>\n",
       "  <tbody>\n",
       "    <tr>\n",
       "      <th>0</th>\n",
       "      <td>807</td>\n",
       "      <td>983.751114</td>\n",
       "    </tr>\n",
       "    <tr>\n",
       "      <th>1</th>\n",
       "      <td>246</td>\n",
       "      <td>1217.537629</td>\n",
       "    </tr>\n",
       "    <tr>\n",
       "      <th>2</th>\n",
       "      <td>632</td>\n",
       "      <td>1014.665307</td>\n",
       "    </tr>\n",
       "    <tr>\n",
       "      <th>3</th>\n",
       "      <td>254</td>\n",
       "      <td>883.556233</td>\n",
       "    </tr>\n",
       "    <tr>\n",
       "      <th>4</th>\n",
       "      <td>901</td>\n",
       "      <td>251.446463</td>\n",
       "    </tr>\n",
       "    <tr>\n",
       "      <th>5</th>\n",
       "      <td>77</td>\n",
       "      <td>345.730069</td>\n",
       "    </tr>\n",
       "    <tr>\n",
       "      <th>6</th>\n",
       "      <td>400</td>\n",
       "      <td>266.522251</td>\n",
       "    </tr>\n",
       "    <tr>\n",
       "      <th>7</th>\n",
       "      <td>938</td>\n",
       "      <td>952.711448</td>\n",
       "    </tr>\n",
       "    <tr>\n",
       "      <th>8</th>\n",
       "      <td>807</td>\n",
       "      <td>983.751114</td>\n",
       "    </tr>\n",
       "    <tr>\n",
       "      <th>9</th>\n",
       "      <td>77</td>\n",
       "      <td>278.272510</td>\n",
       "    </tr>\n",
       "    <tr>\n",
       "      <th>10</th>\n",
       "      <td>547</td>\n",
       "      <td>1411.987006</td>\n",
       "    </tr>\n",
       "    <tr>\n",
       "      <th>11</th>\n",
       "      <td>807</td>\n",
       "      <td>983.751114</td>\n",
       "    </tr>\n",
       "    <tr>\n",
       "      <th>12</th>\n",
       "      <td>1399</td>\n",
       "      <td>1295.859942</td>\n",
       "    </tr>\n",
       "    <tr>\n",
       "      <th>13</th>\n",
       "      <td>400</td>\n",
       "      <td>266.522251</td>\n",
       "    </tr>\n",
       "    <tr>\n",
       "      <th>14</th>\n",
       "      <td>2</td>\n",
       "      <td>179.997401</td>\n",
       "    </tr>\n",
       "    <tr>\n",
       "      <th>15</th>\n",
       "      <td>197</td>\n",
       "      <td>232.434966</td>\n",
       "    </tr>\n",
       "    <tr>\n",
       "      <th>16</th>\n",
       "      <td>547</td>\n",
       "      <td>1411.987006</td>\n",
       "    </tr>\n",
       "    <tr>\n",
       "      <th>17</th>\n",
       "      <td>3553</td>\n",
       "      <td>1094.773035</td>\n",
       "    </tr>\n",
       "    <tr>\n",
       "      <th>18</th>\n",
       "      <td>19</td>\n",
       "      <td>542.648426</td>\n",
       "    </tr>\n",
       "    <tr>\n",
       "      <th>19</th>\n",
       "      <td>713</td>\n",
       "      <td>1033.641445</td>\n",
       "    </tr>\n",
       "    <tr>\n",
       "      <th>20</th>\n",
       "      <td>901</td>\n",
       "      <td>251.446463</td>\n",
       "    </tr>\n",
       "    <tr>\n",
       "      <th>21</th>\n",
       "      <td>0</td>\n",
       "      <td>170.254324</td>\n",
       "    </tr>\n",
       "    <tr>\n",
       "      <th>22</th>\n",
       "      <td>611</td>\n",
       "      <td>293.559782</td>\n",
       "    </tr>\n",
       "    <tr>\n",
       "      <th>23</th>\n",
       "      <td>77</td>\n",
       "      <td>278.272510</td>\n",
       "    </tr>\n",
       "    <tr>\n",
       "      <th>24</th>\n",
       "      <td>450</td>\n",
       "      <td>686.987691</td>\n",
       "    </tr>\n",
       "    <tr>\n",
       "      <th>25</th>\n",
       "      <td>547</td>\n",
       "      <td>1411.987006</td>\n",
       "    </tr>\n",
       "    <tr>\n",
       "      <th>26</th>\n",
       "      <td>3553</td>\n",
       "      <td>1094.773035</td>\n",
       "    </tr>\n",
       "    <tr>\n",
       "      <th>27</th>\n",
       "      <td>938</td>\n",
       "      <td>952.711448</td>\n",
       "    </tr>\n",
       "    <tr>\n",
       "      <th>28</th>\n",
       "      <td>832</td>\n",
       "      <td>891.324203</td>\n",
       "    </tr>\n",
       "    <tr>\n",
       "      <th>29</th>\n",
       "      <td>1399</td>\n",
       "      <td>1295.859942</td>\n",
       "    </tr>\n",
       "  </tbody>\n",
       "</table>\n",
       "</div>"
      ],
      "text/plain": [
       "    Actual    Predicted\n",
       "0      807   983.751114\n",
       "1      246  1217.537629\n",
       "2      632  1014.665307\n",
       "3      254   883.556233\n",
       "4      901   251.446463\n",
       "5       77   345.730069\n",
       "6      400   266.522251\n",
       "7      938   952.711448\n",
       "8      807   983.751114\n",
       "9       77   278.272510\n",
       "10     547  1411.987006\n",
       "11     807   983.751114\n",
       "12    1399  1295.859942\n",
       "13     400   266.522251\n",
       "14       2   179.997401\n",
       "15     197   232.434966\n",
       "16     547  1411.987006\n",
       "17    3553  1094.773035\n",
       "18      19   542.648426\n",
       "19     713  1033.641445\n",
       "20     901   251.446463\n",
       "21       0   170.254324\n",
       "22     611   293.559782\n",
       "23      77   278.272510\n",
       "24     450   686.987691\n",
       "25     547  1411.987006\n",
       "26    3553  1094.773035\n",
       "27     938   952.711448\n",
       "28     832   891.324203\n",
       "29    1399  1295.859942"
      ]
     },
     "execution_count": 26,
     "metadata": {},
     "output_type": "execute_result"
    }
   ],
   "source": [
    "# Comparing actual values to predicted values\n",
    "\n",
    "data = pd.DataFrame({'Actual': y_test.flatten(), 'Predicted': y_predicted.flatten()})\n",
    "data.head(30)"
   ]
  },
  {
   "cell_type": "markdown",
   "id": "f012e8ba",
   "metadata": {},
   "source": [
    "#### The model seems to be a pretty poor fit on the test values. If I were to get rid of the extreme values, I may be able to come up with a model that's a bit more accurate, but I doubt any bit of cleaning would help create a model that would produce reliable predictions."
   ]
  },
  {
   "cell_type": "code",
   "execution_count": 27,
   "id": "60314641",
   "metadata": {},
   "outputs": [],
   "source": [
    "df.to_csv(os.path.join(path, '02 Data','Prepared Data', 'Regression_Data.csv'))"
   ]
  },
  {
   "cell_type": "code",
   "execution_count": null,
   "id": "8fc2e71a",
   "metadata": {},
   "outputs": [],
   "source": []
  }
 ],
 "metadata": {
  "kernelspec": {
   "display_name": "Python 3 (ipykernel)",
   "language": "python",
   "name": "python3"
  },
  "language_info": {
   "codemirror_mode": {
    "name": "ipython",
    "version": 3
   },
   "file_extension": ".py",
   "mimetype": "text/x-python",
   "name": "python",
   "nbconvert_exporter": "python",
   "pygments_lexer": "ipython3",
   "version": "3.9.7"
  }
 },
 "nbformat": 4,
 "nbformat_minor": 5
}
